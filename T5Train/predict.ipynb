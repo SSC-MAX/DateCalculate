{
 "cells": [
  {
   "cell_type": "code",
   "id": "initial_id",
   "metadata": {
    "collapsed": true,
    "ExecuteTime": {
     "end_time": "2025-08-16T07:21:51.859237Z",
     "start_time": "2025-08-16T07:21:46.134250Z"
    }
   },
   "source": [
    "from transformers import T5Tokenizer, T5ForConditionalGeneration, Trainer, TrainingArguments\n",
    "\n",
    "model_path = 'models/models_v3/t5_time_extractor_r_p_1000_1000'\n",
    "tokenizer = T5Tokenizer.from_pretrained(model_path)\n",
    "model = T5ForConditionalGeneration.from_pretrained(model_path)"
   ],
   "outputs": [],
   "execution_count": 1
  },
  {
   "metadata": {
    "ExecuteTime": {
     "end_time": "2025-08-16T07:22:46.997300Z",
     "start_time": "2025-08-16T07:22:46.975335Z"
    }
   },
   "cell_type": "code",
   "source": [
    "import json\n",
    "import ast\n",
    "\n",
    "def trans_list(list_str):\n",
    "    list_with_json_strings = ast.literal_eval(list_str)\n",
    "\n",
    "    # 第二步：遍历列表，将每个JSON字符串转换为字典\n",
    "    result_list = []\n",
    "    for json_str in list_with_json_strings:\n",
    "        # 解析JSON字符串为字典\n",
    "        data_dict = json.loads(json_str)\n",
    "        result_list.append(data_dict)\n",
    "    return result_list\n",
    "\n",
    "def delete_space(text):\n",
    "    return json.dumps(text, separators=(',', ':')).replace(\" \", \"\").replace(\"\\n\", \"\").replace(\"\\r\", \"\").replace(\"\\\\n\",\"\")\n",
    "\n",
    "def compare(predict_text, target_text):\n",
    "    predict_list = trans_list(predict_text)\n",
    "    target_list = trans_list(target_text)\n",
    "    if len(predict_list) != len(target_list):\n",
    "        return False\n",
    "    for i in range(len(predict_list)):\n",
    "        if delete_space(predict_list[i]) != delete_space(target_list[i]):\n",
    "            return False\n",
    "    return True"
   ],
   "id": "d412f8c50e9fa721",
   "outputs": [],
   "execution_count": 2
  },
  {
   "metadata": {
    "ExecuteTime": {
     "end_time": "2025-08-16T17:27:51.109207Z",
     "start_time": "2025-08-16T17:27:51.045722Z"
    }
   },
   "cell_type": "code",
   "source": [
    "import pandas as pd\n",
    "import json\n",
    "\n",
    "predict_file_path = 'data/v3/predict/test_1000_r_p_fix.json'\n",
    "\n",
    "dataset = json.load(open(predict_file_path))\n",
    "error_list = []\n",
    "for i in range(len(dataset)):\n",
    "    if not compare(dataset[i]['predict_text'], dataset[i]['target_text']):\n",
    "        error_list.append({\n",
    "            \"index\":i,\n",
    "            \"input_text\":dataset[i]['input_text'],\n",
    "            \"target_text\":dataset[i]['target_text'],\n",
    "            \"predict_list\":dataset[i]['predict_text'],\n",
    "        })"
   ],
   "id": "2b0285ff7d9e6a7a",
   "outputs": [],
   "execution_count": 18
  },
  {
   "metadata": {
    "ExecuteTime": {
     "end_time": "2025-08-16T17:27:54.061913Z",
     "start_time": "2025-08-16T17:27:54.051402Z"
    }
   },
   "cell_type": "code",
   "source": "len(error_list)",
   "id": "529b4a844ece37ed",
   "outputs": [
    {
     "data": {
      "text/plain": [
       "1"
      ]
     },
     "execution_count": 19,
     "metadata": {},
     "output_type": "execute_result"
    }
   ],
   "execution_count": 19
  },
  {
   "metadata": {
    "ExecuteTime": {
     "end_time": "2025-08-16T17:27:59.614625Z",
     "start_time": "2025-08-16T17:27:59.609481Z"
    }
   },
   "cell_type": "code",
   "source": "error_list",
   "id": "fbdc5ea59403e1a",
   "outputs": [
    {
     "data": {
      "text/plain": [
       "[{'index': 534,\n",
       "  'input_text': '\"学生日常课程安排里，对应上周二那节课是正常去上课的。\"',\n",
       "  'target_text': '[\\'{\"month\":\"none\",\"week\":\"-1\",\"weekday\":\"2\",\"day\":\"none\",\"term\":\"none\"}\\']',\n",
       "  'predict_list': '[\\'{\"month\":\"none\",\"week\":\"none\",\"weekday\":\"none\",\"day\":\"-2\",\"term\":\"none\"}\\']'}]"
      ]
     },
     "execution_count": 21,
     "metadata": {},
     "output_type": "execute_result"
    }
   ],
   "execution_count": 21
  },
  {
   "metadata": {
    "ExecuteTime": {
     "end_time": "2025-08-16T09:48:08.608359Z",
     "start_time": "2025-08-16T09:48:08.592154Z"
    }
   },
   "cell_type": "code",
   "source": [
    "import pandas as pd\n",
    "\n",
    "file_path = 'data/v3/test_1000_r.csv'\n",
    "index = 912\n",
    "\n",
    "dataset = pd.read_csv(file_path)\n",
    "input_texts = [e for e in dataset['input_text']]\n",
    "target_texts = [e for e in dataset['target_text']]\n",
    "\n",
    "input_texts[index], target_texts[index]"
   ],
   "id": "597e5e3b29706782",
   "outputs": [
    {
     "data": {
      "text/plain": [
       "('下学期的最后一周请假',\n",
       " '[\\'{\"month\": \"none\", \"week\": \"-1\", \"weekday\": \"none\", \"day\": \"none\", \"term\": \"1\"}\\']')"
      ]
     },
     "execution_count": 13,
     "metadata": {},
     "output_type": "execute_result"
    }
   ],
   "execution_count": 13
  },
  {
   "metadata": {
    "ExecuteTime": {
     "end_time": "2025-08-16T09:48:21.274465Z",
     "start_time": "2025-08-16T09:48:21.231289Z"
    }
   },
   "cell_type": "code",
   "source": [
    "import pandas as pd\n",
    "\n",
    "file_path = 'data/v3/test_1000_r_p_fix.csv'\n",
    "index = 912\n",
    "\n",
    "dataset = pd.read_csv(file_path)\n",
    "input_texts = [e for e in dataset['input_text']]\n",
    "target_texts = [e for e in dataset['target_text']]\n",
    "\n",
    "input_texts[index], target_texts[index]"
   ],
   "id": "9c22a6cfd4121c6e",
   "outputs": [
    {
     "data": {
      "text/plain": [
       "('\"因个人特殊情况，需在本学期最后一周请假，望批准。\"',\n",
       " '[\\'{\"month\":\"none\",\"week\":\"-1\",\"weekday\":\"none\",\"day\":\"none\",\"term\":\"1\"}\\']')"
      ]
     },
     "execution_count": 14,
     "metadata": {},
     "output_type": "execute_result"
    }
   ],
   "execution_count": 14
  }
 ],
 "metadata": {
  "kernelspec": {
   "display_name": "Python 3",
   "language": "python",
   "name": "python3"
  },
  "language_info": {
   "codemirror_mode": {
    "name": "ipython",
    "version": 2
   },
   "file_extension": ".py",
   "mimetype": "text/x-python",
   "name": "python",
   "nbconvert_exporter": "python",
   "pygments_lexer": "ipython2",
   "version": "2.7.6"
  }
 },
 "nbformat": 4,
 "nbformat_minor": 5
}
